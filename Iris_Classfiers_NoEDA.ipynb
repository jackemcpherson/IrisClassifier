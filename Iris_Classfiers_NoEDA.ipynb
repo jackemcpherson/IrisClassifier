{
  "nbformat": 4,
  "nbformat_minor": 0,
  "metadata": {
    "colab": {
      "name": "Iris Classfiers.ipynb",
      "version": "0.3.2",
      "provenance": [],
      "collapsed_sections": [],
      "include_colab_link": true
    },
    "kernelspec": {
      "name": "python3",
      "display_name": "Python 3"
    }
  },
  "cells": [
    {
      "cell_type": "markdown",
      "metadata": {
        "id": "view-in-github",
        "colab_type": "text"
      },
      "source": [
        "<a href=\"https://colab.research.google.com/github/jackemcpherson/IrisClassifier/blob/master/Iris_Classfiers_NoEDA.ipynb\" target=\"_parent\"><img src=\"https://colab.research.google.com/assets/colab-badge.svg\" alt=\"Open In Colab\"/></a>"
      ]
    },
    {
      "cell_type": "code",
      "metadata": {
        "id": "JwWQXU9LcVIf",
        "colab_type": "code",
        "colab": {}
      },
      "source": [
        "#Import Utility Packages#\n",
        "import pandas as pd\n",
        "import seaborn as sns\n",
        "import matplotlib.pyplot as plt\n",
        "import numpy as np\n",
        "\n",
        "#Import Classifiers#\n",
        "from sklearn.neighbors import KNeighborsClassifier\n",
        "from sklearn.model_selection import train_test_split\n",
        "from sklearn.tree import plot_tree, DecisionTreeClassifier\n",
        "\n",
        "#Load Data#\n",
        "iris = sns.load_dataset(\"iris\")\n",
        "\n",
        "# Prepare Data #\n",
        "vals = iris[['sepal_length', 'sepal_width', 'petal_length', 'petal_width']]\n",
        "labels = iris[\"species\"]\n",
        "\n",
        "assert vals.shape[0] == labels.shape[0]\n",
        "\n",
        "#Split Data#\n",
        "X_train, Y_train, x_test, y_test = train_test_split(vals, labels, random_state=1991, train_size=0.8)\n",
        "\n",
        "#K Nearest Neighbours#\n",
        "\n",
        "C = KNeighborsClassifier(n_neighbors=3)\n",
        "C.fit(X_train, x_test)\n",
        "\n",
        "KNN_Score = C.score(Y_train, y_test)\n",
        "\n",
        "print(round(KNN_Score, 3))\n",
        "\n",
        "#Decision Tree#\n",
        "tree = DecisionTreeClassifier()\n",
        "tree.fit(X_train, x_test)\n",
        "\n",
        "Tree_Score = tree.score(Y_train,y_test)\n",
        "\n",
        "plt.figure(figsize=(15,15))\n",
        "print(\"\\n\\nDecision Tree\\n\", plot_tree(tree, feature_names=vals.columns ,class_names=labels.unique()))\n",
        "\n",
        "print(round(Tree_Score, 3))"
      ],
      "execution_count": 0,
      "outputs": []
    }
  ]
}